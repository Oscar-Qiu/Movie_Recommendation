{
 "cells": [
  {
   "cell_type": "code",
   "execution_count": 13,
   "id": "fec2f940-359c-4a63-9fb6-05b5fa88f9ee",
   "metadata": {
    "ExecuteTime": {
     "end_time": "2024-12-02T16:55:20.894908Z",
     "start_time": "2024-12-02T16:55:15.645457Z"
    }
   },
   "outputs": [],
   "source": [
    "import torch\n",
    "from transformers import BertTokenizer, BertForSequenceClassification\n",
    "import pandas as pd"
   ]
  },
  {
   "cell_type": "code",
   "execution_count": 14,
   "id": "fb5fcd6a-5b2c-4833-9f69-f7925166a462",
   "metadata": {
    "ExecuteTime": {
     "end_time": "2024-12-02T16:55:21.261540Z",
     "start_time": "2024-12-02T16:55:20.894908Z"
    }
   },
   "outputs": [
    {
     "name": "stderr",
     "output_type": "stream",
     "text": [
      "Some weights of BertForSequenceClassification were not initialized from the model checkpoint at ./models/bert-base-uncased and are newly initialized: ['classifier.bias', 'classifier.weight']\n",
      "You should probably TRAIN this model on a down-stream task to be able to use it for predictions and inference.\n",
      "C:\\Users\\21927\\AppData\\Local\\Temp\\ipykernel_26304\\304888792.py:7: FutureWarning: You are using `torch.load` with `weights_only=False` (the current default value), which uses the default pickle module implicitly. It is possible to construct malicious pickle data which will execute arbitrary code during unpickling (See https://github.com/pytorch/pytorch/blob/main/SECURITY.md#untrusted-models for more details). In a future release, the default value for `weights_only` will be flipped to `True`. This limits the functions that could be executed during unpickling. Arbitrary objects will no longer be allowed to be loaded via this mode unless they are explicitly allowlisted by the user via `torch.serialization.add_safe_globals`. We recommend you start setting `weights_only=True` for any use case where you don't have full control of the loaded file. Please open an issue on GitHub for any issues related to this experimental feature.\n",
      "  model.load_state_dict(torch.load(model_path, map_location=torch.device('cpu')))\n"
     ]
    }
   ],
   "source": [
    "# 加载模型和tokenizer\n",
    "model_path = \"./bert_sentiment_model.pth\"  # 替换为您的模型文件路径\n",
    "tokenizer = BertTokenizer.from_pretrained(\"./models/bert-base-uncased\")  # 替换为训练时使用的预训练模型名称\n",
    "model = BertForSequenceClassification.from_pretrained(\"./models/bert-base-uncased\", num_labels=5)  # 修改num_labels为训练时的类别数量\n",
    "\n",
    "# 加载权重到模型中\n",
    "model.load_state_dict(torch.load(model_path, map_location=torch.device('cpu')))\n",
    "model.eval()  # 确保模型处于推理模式\n",
    "\n",
    "# 定义情感分析函数\n",
    "def predict_sentiment(text):\n",
    "    inputs = tokenizer(\n",
    "        text, \n",
    "        return_tensors=\"pt\", \n",
    "        truncation=True, \n",
    "        max_length=128, \n",
    "        padding=\"max_length\"\n",
    "    )\n",
    "    with torch.no_grad():\n",
    "        outputs = model(**inputs)\n",
    "    logits = outputs.logits\n",
    "    predicted_class = torch.argmax(logits, dim=-1).item()\n",
    "    return predicted_class"
   ]
  },
  {
   "cell_type": "code",
   "execution_count": 15,
   "id": "e86e0e32-0dec-4f8b-baaa-09d2eb2653ae",
   "metadata": {},
   "outputs": [
    {
     "data": {
      "text/plain": [
       "<bound method NDFrame.head of        movie_id                                   title  year  \\\n",
       "0             8  Edison Kinetoscopic Record of a Sneeze  1894   \n",
       "1            10            La sortie des usines Lumière  1895   \n",
       "2            12                  The Arrival of a Train  1896   \n",
       "3            91                     Le manoir du diable  1896   \n",
       "4           131                       Une nuit terrible  1896   \n",
       "...         ...                                     ...   ...   \n",
       "35698  15417330                                  Grudge  2021   \n",
       "35699  15469820                       Britney vs Spears  2021   \n",
       "35700  15655276                                    Yara  2021   \n",
       "35701  15831978                                    Cash  2021   \n",
       "35702  15839820                                  Sompoy  2021   \n",
       "\n",
       "                              genres  tmdb_id  \\\n",
       "0           ['Documentary', 'Short']   105158   \n",
       "1           ['Documentary', 'Short']      774   \n",
       "2           ['Documentary', 'Short']      160   \n",
       "3                ['Short', 'Horror']   133063   \n",
       "4      ['Short', 'Comedy', 'Horror']   104462   \n",
       "...                              ...      ...   \n",
       "35698                   ['Thriller']   874948   \n",
       "35699       ['Documentary', 'Music']   797594   \n",
       "35700          ['Crime', 'Thriller']   747688   \n",
       "35701                           ['']   893614   \n",
       "35702          ['Comedy', 'Romance']   889597   \n",
       "\n",
       "                                                overview  vote_average  \\\n",
       "0      A man (Thomas Edison's assistant) takes a pinc...         4.888   \n",
       "1      Working men and women leave through the main g...         6.700   \n",
       "2      A group of people are standing along the platf...         7.103   \n",
       "3      In a medieval castle, a dark magician thought ...         6.452   \n",
       "4      A man tries to get a good night's sleep, but i...         5.086   \n",
       "...                                                  ...           ...   \n",
       "35698  Ahead of a promotion, a police chief becomes e...         6.065   \n",
       "35699  Journalist Jenny Eliscu and filmmaker Erin Lee...         6.984   \n",
       "35700  The murder of 13-year-old Yara Gambirasio shoc...         6.290   \n",
       "35701  Armaan, a 25-year old middle-class boy has an ...         7.000   \n",
       "35702  A love triangle story of a young woman named S...         6.500   \n",
       "\n",
       "       vote_count  popularity original_language  runtime  \\\n",
       "0              89       3.211                xx        1   \n",
       "1             327       5.932                fr        1   \n",
       "2             468       7.262                fr        1   \n",
       "3             186       4.042                fr        3   \n",
       "4              81       3.979                fr        1   \n",
       "...           ...         ...               ...      ...   \n",
       "35698          84      10.311                tr      104   \n",
       "35699         161       7.080                en       93   \n",
       "35700         390      34.962                it       96   \n",
       "35701           1       1.264                hi      119   \n",
       "35702           4       1.426                th      118   \n",
       "\n",
       "           production_countries                   production_companies  \\\n",
       "0      United States of America                         Edison Studios   \n",
       "1                        France                                Lumière   \n",
       "2                        France                                Lumière   \n",
       "3                        France              Georges Méliès, Star Film   \n",
       "4                        France                      Star Film Company   \n",
       "...                         ...                                    ...   \n",
       "35698                    Turkey                                    BKM   \n",
       "35699  United States of America  Story Syndicate, Carr Lot Productions   \n",
       "35700                     Italy                            Taodue Film   \n",
       "35701                     India                             Va Va Voom   \n",
       "35702                  Thailand        M Pictures, Kongkiat Production   \n",
       "\n",
       "                    director  \\\n",
       "0              William Heise   \n",
       "1              Louis Lumière   \n",
       "2              Louis Lumière   \n",
       "3             Georges Méliès   \n",
       "4             Georges Méliès   \n",
       "...                      ...   \n",
       "35698           Türkan Derya   \n",
       "35699          Erin Lee Carr   \n",
       "35700  Marco Tullio Giordana   \n",
       "35701            Rishab Seth   \n",
       "35702        Aroonakorn Pick   \n",
       "\n",
       "                                              top_actors  \\\n",
       "0                                               Fred Ott   \n",
       "1                                                    NaN   \n",
       "2      Suzanne Lumière, Madeleine Koehler, Marcel Koe...   \n",
       "3                                         Jehanne d'Alcy   \n",
       "4                                                    NaN   \n",
       "...                                                  ...   \n",
       "35698  Ahmet Mümtaz Taylan, Süreyya Gürsel Evren, Cem...   \n",
       "35699  Britney Spears, Felicia Culotta, Kevin Federli...   \n",
       "35700  Rodolfo Corsato, Isabella Ragonese, Thomas Tra...   \n",
       "35701  Gulshan Grover, Amol Parashar, Pawan Chopra, K...   \n",
       "35702  Patteerat Laemluang, Pichukkana Wongsarattanas...   \n",
       "\n",
       "                                                keywords  \\\n",
       "0                                                    NaN   \n",
       "1      factory worker, factory, lyon, closing time, h...   \n",
       "2      france, cinema on cinema, beginning, train, ea...   \n",
       "3      supernatural, black and white, silent film, ha...   \n",
       "4      insect, camping, bedroom, bed, giant spider, g...   \n",
       "...                                                  ...   \n",
       "35698                                                NaN   \n",
       "35699       pop star, investigation, legal battle, abuse   \n",
       "35700  based on true story, murder, true crime, prose...   \n",
       "35701                                                NaN   \n",
       "35702                                                NaN   \n",
       "\n",
       "                                                 reviews  \n",
       "0      There is just something magical being able to ...  \n",
       "1                                                    NaN  \n",
       "2      This famous film was ACTUALLY MADE IN 1897, Lu...  \n",
       "3      According to Wikipedia in August of 2011, Le M...  \n",
       "4      Georges Méliès does it again in the same fashi...  \n",
       "...                                                  ...  \n",
       "35698                                                NaN  \n",
       "35699  Britney vs Spears has 'first world problem' wr...  \n",
       "35700                                                NaN  \n",
       "35701                                                NaN  \n",
       "35702                                                NaN  \n",
       "\n",
       "[35703 rows x 17 columns]>"
      ]
     },
     "execution_count": 15,
     "metadata": {},
     "output_type": "execute_result"
    }
   ],
   "source": [
    "df = pd.read_csv('./Data/enriched_movies.csv')\n",
    "df.head"
   ]
  },
  {
   "cell_type": "code",
   "execution_count": 20,
   "id": "2e6682cf-4d94-4bdd-8907-07f581385683",
   "metadata": {},
   "outputs": [
    {
     "name": "stderr",
     "output_type": "stream",
     "text": [
      "C:\\Users\\21927\\AppData\\Local\\Temp\\ipykernel_26304\\3227890358.py:2: SettingWithCopyWarning: \n",
      "A value is trying to be set on a copy of a slice from a DataFrame.\n",
      "Try using .loc[row_indexer,col_indexer] = value instead\n",
      "\n",
      "See the caveats in the documentation: https://pandas.pydata.org/pandas-docs/stable/user_guide/indexing.html#returning-a-view-versus-a-copy\n",
      "  review['reviews'] = review['reviews'].fillna('')\n"
     ]
    },
    {
     "data": {
      "text/plain": [
       "<bound method NDFrame.head of        movie_id                                            reviews\n",
       "0             8  There is just something magical being able to ...\n",
       "1            10                                                   \n",
       "2            12  This famous film was ACTUALLY MADE IN 1897, Lu...\n",
       "3            91  According to Wikipedia in August of 2011, Le M...\n",
       "4           131  Georges Méliès does it again in the same fashi...\n",
       "...         ...                                                ...\n",
       "35698  15417330                                                   \n",
       "35699  15469820  Britney vs Spears has 'first world problem' wr...\n",
       "35700  15655276                                                   \n",
       "35701  15831978                                                   \n",
       "35702  15839820                                                   \n",
       "\n",
       "[35703 rows x 2 columns]>"
      ]
     },
     "execution_count": 20,
     "metadata": {},
     "output_type": "execute_result"
    }
   ],
   "source": [
    "review = df[['movie_id', 'reviews']]\n",
    "review['reviews'] = review['reviews'].fillna('')\n",
    "review.head"
   ]
  },
  {
   "cell_type": "code",
   "execution_count": 23,
   "id": "197ea740-8f4b-47ee-ae4f-54edb5fa3de6",
   "metadata": {},
   "outputs": [
    {
     "data": {
      "text/plain": [
       "<bound method NDFrame.head of        movie_id  average_sentiment\n",
       "0             8                3.0\n",
       "1            10                2.0\n",
       "2            12                3.0\n",
       "3            91                2.5\n",
       "4           131                2.0\n",
       "...         ...                ...\n",
       "35698  15417330                2.0\n",
       "35699  15469820                0.0\n",
       "35700  15655276                2.0\n",
       "35701  15831978                2.0\n",
       "35702  15839820                2.0\n",
       "\n",
       "[35703 rows x 2 columns]>"
      ]
     },
     "execution_count": 23,
     "metadata": {},
     "output_type": "execute_result"
    }
   ],
   "source": [
    "def calculate_average_sentiment(dataframe):\n",
    "    results = []\n",
    "    for movie_id, reviews in dataframe.itertuples(index=False):\n",
    "        # 分隔评论\n",
    "        review_list = reviews.split('||')\n",
    "        # 对每条评论预测情感分数\n",
    "        sentiments = [predict_sentiment(review.strip()) for review in review_list]\n",
    "        # 计算平均情感分\n",
    "        average_sentiment = sum(sentiments) / len(sentiments) if sentiments else 4\n",
    "        # 记录结果\n",
    "        results.append({'movie_id': movie_id, 'average_sentiment': average_sentiment})\n",
    "\n",
    "    # 返回结果数据框\n",
    "    return pd.DataFrame(results)\n",
    "\n",
    "# 示例调用\n",
    "result_df = calculate_average_sentiment(review)\n",
    "result_df.head"
   ]
  },
  {
   "cell_type": "code",
   "execution_count": 24,
   "id": "b7deca89-d4d1-417a-b505-fc1436a43a6b",
   "metadata": {
    "ExecuteTime": {
     "end_time": "2024-12-02T16:55:21.511337Z",
     "start_time": "2024-12-02T16:55:21.385416Z"
    }
   },
   "outputs": [],
   "source": [
    "result_df.to_csv('./sentiment-ave-result.csv')"
   ]
  },
  {
   "cell_type": "code",
   "execution_count": null,
   "id": "66b3aed2-0ee3-4004-a217-cd04e717cd3a",
   "metadata": {
    "ExecuteTime": {
     "end_time": "2024-12-02T16:55:21.584253Z",
     "start_time": "2024-12-02T16:55:21.569428Z"
    }
   },
   "outputs": [],
   "source": []
  }
 ],
 "metadata": {
  "kernelspec": {
   "display_name": "Python 3 (ipykernel)",
   "language": "python",
   "name": "python3"
  },
  "language_info": {
   "codemirror_mode": {
    "name": "ipython",
    "version": 3
   },
   "file_extension": ".py",
   "mimetype": "text/x-python",
   "name": "python",
   "nbconvert_exporter": "python",
   "pygments_lexer": "ipython3",
   "version": "3.12.6"
  }
 },
 "nbformat": 4,
 "nbformat_minor": 5
}
