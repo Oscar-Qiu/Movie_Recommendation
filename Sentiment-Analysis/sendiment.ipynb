{
 "cells": [
  {
   "cell_type": "code",
   "execution_count": 1,
   "id": "fec2f940-359c-4a63-9fb6-05b5fa88f9ee",
   "metadata": {},
   "outputs": [],
   "source": [
    "import torch\n",
    "from transformers import BertTokenizer, BertForSequenceClassification"
   ]
  },
  {
   "cell_type": "code",
   "execution_count": 5,
   "id": "fb5fcd6a-5b2c-4833-9f69-f7925166a462",
   "metadata": {},
   "outputs": [
    {
     "name": "stderr",
     "output_type": "stream",
     "text": [
      "Some weights of BertForSequenceClassification were not initialized from the model checkpoint at ./models/bert-base-uncased and are newly initialized: ['classifier.bias', 'classifier.weight']\n",
      "You should probably TRAIN this model on a down-stream task to be able to use it for predictions and inference.\n"
     ]
    }
   ],
   "source": [
    "# 加载模型和tokenizer\n",
    "model_path = \"./bert_sentiment_model.pth\"  # 替换为您的模型文件路径\n",
    "tokenizer = BertTokenizer.from_pretrained(\"./models/bert-base-uncased\")  # 替换为训练时使用的预训练模型名称\n",
    "model = BertForSequenceClassification.from_pretrained(\"./models/bert-base-uncased\", num_labels=5)  # 修改num_labels为训练时的类别数量\n",
    "\n",
    "# 加载权重到模型中\n",
    "model.load_state_dict(torch.load(model_path, map_location=torch.device('cpu')))\n",
    "model.eval()  # 确保模型处于推理模式\n",
    "\n",
    "# 定义情感分析函数\n",
    "def predict_sentiment(text):\n",
    "    inputs = tokenizer(\n",
    "        text, \n",
    "        return_tensors=\"pt\", \n",
    "        truncation=True, \n",
    "        max_length=128, \n",
    "        padding=\"max_length\"\n",
    "    )\n",
    "    with torch.no_grad():\n",
    "        outputs = model(**inputs)\n",
    "    logits = outputs.logits\n",
    "    predicted_class = torch.argmax(logits, dim=-1).item()\n",
    "    return predicted_class"
   ]
  },
  {
   "cell_type": "code",
   "execution_count": 6,
   "id": "b7deca89-d4d1-417a-b505-fc1436a43a6b",
   "metadata": {},
   "outputs": [
    {
     "name": "stdout",
     "output_type": "stream",
     "text": [
      "Predicted Sentiment for 'This movie was absolutely fantastic! Highly recommend it.': 4\n"
     ]
    }
   ],
   "source": [
    "# 示例输入\n",
    "sample_text = \"This movie was absolutely fantastic! Highly recommend it.\"\n",
    "predicted_sentiment = predict_sentiment(sample_text)\n",
    "print(f\"Predicted Sentiment for '{sample_text}': {predicted_sentiment}\")\n"
   ]
  },
  {
   "cell_type": "code",
   "execution_count": null,
   "id": "66b3aed2-0ee3-4004-a217-cd04e717cd3a",
   "metadata": {},
   "outputs": [],
   "source": []
  }
 ],
 "metadata": {
  "kernelspec": {
   "display_name": "Python 3 (ipykernel)",
   "language": "python",
   "name": "python3"
  },
  "language_info": {
   "codemirror_mode": {
    "name": "ipython",
    "version": 3
   },
   "file_extension": ".py",
   "mimetype": "text/x-python",
   "name": "python",
   "nbconvert_exporter": "python",
   "pygments_lexer": "ipython3",
   "version": "3.8.10"
  }
 },
 "nbformat": 4,
 "nbformat_minor": 5
}
